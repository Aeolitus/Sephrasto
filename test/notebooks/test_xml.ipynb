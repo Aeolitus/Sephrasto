{
 "cells": [
  {
   "cell_type": "code",
   "execution_count": 1,
   "metadata": {},
   "outputs": [],
   "source": [
    "from pathlib import Path\n",
    "import lxml.etree as ET\n",
    "import yaml\n",
    "import os\n",
    "import logging as log"
   ]
  },
  {
   "cell_type": "code",
   "execution_count": 2,
   "metadata": {},
   "outputs": [],
   "source": [
    "package_root = Path(\".\").absolute().parent.parent"
   ]
  },
  {
   "cell_type": "code",
   "execution_count": 3,
   "metadata": {},
   "outputs": [
    {
     "name": "stdout",
     "output_type": "stream",
     "text": [
      "/home/klnrdknt/git/sephrasto-rework/datenbank_new.xml\n"
     ]
    }
   ],
   "source": [
    "f = Path(\".\").absolute().parent.parent / \"datenbank_new.xml\"\n",
    "print(f)\n",
    "assert f.is_file()"
   ]
  },
  {
   "cell_type": "code",
   "execution_count": 4,
   "metadata": {},
   "outputs": [
    {
     "data": {
      "text/plain": [
       "<Element Datenbank at 0x7f8f184f9480>"
      ]
     },
     "execution_count": 4,
     "metadata": {},
     "output_type": "execute_result"
    }
   ],
   "source": [
    "tr = ET.parse(str(f)).getroot()\n",
    "tr"
   ]
  },
  {
   "cell_type": "code",
   "execution_count": 5,
   "metadata": {},
   "outputs": [
    {
     "name": "stdout",
     "output_type": "stream",
     "text": [
      "{'kategorie': 'Schrift', 'text': 'Chrmk'}\n",
      "{'kategorie': 'Schrift', 'text': 'Chuchas'}\n",
      "{'kategorie': 'Schrift', 'text': 'Isdira- und Asdharia-Zeichen'}\n",
      "{'kategorie': 'Schrift', 'text': 'Drakhard-Zinken'}\n",
      "{'kategorie': 'Schrift', 'text': 'Gimaril'}\n",
      "{'kategorie': 'Schrift', 'text': 'Imperiale Zeichen'}\n",
      "{'kategorie': 'Schrift', 'text': 'Kusliker Zeichen'}\n",
      "{'kategorie': 'Schrift', 'text': 'Nanduria-Zeichen'}\n",
      "{'kategorie': 'Schrift', 'text': 'Mahrische Glyphen'}\n",
      "{'kategorie': 'Schrift', 'text': 'Trollische Raumbilderschrift'}\n",
      "{'kategorie': 'Schrift', 'text': 'Gjalsker Runen'}\n",
      "{'kategorie': 'Schrift', 'text': 'Hjaldingsche Runen'}\n",
      "{'kategorie': 'Schrift', 'text': 'Thorwalsche Runen'}\n",
      "{'kategorie': 'Schrift', 'text': 'Altes Alaani'}\n",
      "{'kategorie': 'Schrift', 'text': 'Amulashtra-Glyphen'}\n",
      "{'kategorie': 'Schrift', 'text': 'Geheiligte Glyphen von Unau'}\n",
      "{'kategorie': 'Schrift', 'text': 'Kemi-Symbole'}\n",
      "{'kategorie': 'Schrift', 'text': 'Tulamidya-Zeichen'}\n",
      "{'kategorie': 'Schrift', 'text': 'Ur-Tulamidya-Zeichen'}\n",
      "{'kategorie': 'Schrift', 'text': 'Angram-Bilderschrift'}\n",
      "{'kategorie': 'Schrift', 'text': 'Rogolan-Runen'}\n",
      "{'kategorie': 'Schrift', 'text': 'Arkanil'}\n",
      "{'kategorie': 'Schrift', 'text': 'Drakned-Glyphen'}\n",
      "{'kategorie': 'Schrift', 'text': 'Zhayad-Zeichen'}\n",
      "{'kategorie': 'Sprache', 'text': 'Krakonisch'}\n",
      "{'kategorie': 'Sprache', 'text': 'Rssahh'}\n",
      "{'kategorie': 'Sprache', 'text': 'Asdharia'}\n",
      "{'kategorie': 'Sprache', 'text': 'Isdira'}\n",
      "{'kategorie': 'Sprache', 'text': 'Aureliani'}\n",
      "{'kategorie': 'Sprache', 'text': 'Bosparano'}\n",
      "{'kategorie': 'Sprache', 'text': 'Bukanisch'}\n",
      "{'kategorie': 'Sprache', 'text': 'Garethi'}\n",
      "{'kategorie': 'Sprache', 'text': 'Zyklopaeisch'}\n",
      "{'kategorie': 'Sprache', 'text': 'Mahrisch'}\n",
      "{'kategorie': 'Sprache', 'voraussetzungen': 'Vorteil Zauberer I', 'text': 'Neckergesang'}\n",
      "{'kategorie': 'Sprache', 'text': 'Rissoal'}\n",
      "{'kategorie': 'Sprache', 'text': 'Z’Lit'}\n",
      "{'kategorie': 'Sprache', 'text': 'Oloarkh'}\n",
      "{'kategorie': 'Sprache', 'text': 'Ologhaijan'}\n",
      "{'kategorie': 'Sprache', 'text': 'Golp'}\n",
      "{'kategorie': 'Sprache', 'text': 'Trollisch'}\n",
      "{'kategorie': 'Sprache', 'text': 'Yetan'}\n",
      "{'kategorie': 'Sprache', 'text': 'Fjarningsch'}\n",
      "{'kategorie': 'Sprache', 'text': 'Gjalskisch'}\n",
      "{'kategorie': 'Sprache', 'text': 'Hjaldingsch'}\n",
      "{'kategorie': 'Sprache', 'text': 'Thorwalsch'}\n",
      "{'kategorie': 'Sprache', 'text': 'Alaani'}\n",
      "{'kategorie': 'Sprache', 'text': 'Ferkina'}\n",
      "{'kategorie': 'Sprache', 'text': 'Kemi'}\n",
      "{'kategorie': 'Sprache', 'text': 'Rabensprache'}\n",
      "{'kategorie': 'Sprache', 'text': 'Ruuz'}\n",
      "{'kategorie': 'Sprache', 'text': 'Tulamidya'}\n",
      "{'kategorie': 'Sprache', 'text': 'Ur-Tulamidya'}\n",
      "{'kategorie': 'Sprache', 'text': 'Zelemja'}\n",
      "{'kategorie': 'Sprache', 'text': 'Zhulchammaqra'}\n",
      "{'kategorie': 'Sprache', 'text': 'Angram'}\n",
      "{'kategorie': 'Sprache', 'text': 'Rogolan'}\n",
      "{'kategorie': 'Sprache', 'text': 'Tiefzwergisch'}\n",
      "{'kategorie': 'Sprache', 'text': 'Amuurak'}\n",
      "{'kategorie': 'Sprache', 'text': 'Atak (+Schrift)'}\n",
      "{'kategorie': 'Sprache', 'voraussetzungen': 'Vorteil Zauberer I', 'text': 'Drachisch'}\n",
      "{'kategorie': 'Sprache', 'text': 'Fuechsisch (+Schrift)'}\n",
      "{'kategorie': 'Sprache', 'text': 'Goblinisch'}\n",
      "{'kategorie': 'Sprache', 'text': 'Grolmisch'}\n",
      "{'kategorie': 'Sprache', 'voraussetzungen': 'Vorteil Zauberer I', 'text': 'Koboldisch'}\n",
      "{'kategorie': 'Sprache', 'text': 'Mohisch'}\n",
      "{'kategorie': 'Sprache', 'text': 'Molochisch'}\n",
      "{'kategorie': 'Sprache', 'text': 'Nujuka'}\n",
      "{'kategorie': 'Sprache', 'text': 'Ogrisch'}\n",
      "{'kategorie': 'Sprache', 'text': 'Riesen-Sprache'}\n",
      "{'kategorie': 'Sprache', 'text': 'Zhayad'}\n",
      "{'kategorie': 'Sprache', 'text': 'Zyklopisch'}\n"
     ]
    }
   ],
   "source": [
    "db_root = package_root / \"db\"\n",
    "db_root.mkdir(exist_ok=True)\n",
    "for child in tr:\n",
    "    # create folder\n",
    "    folder = db_root / child.tag\n",
    "    folder.mkdir(exist_ok=True)\n",
    "\n",
    "    d = {k: v for k, v in sorted(child.items())}\n",
    "    d[\"text\"] = child.text\n",
    "    try:\n",
    "        filename = \"_\".join(\n",
    "            d[\"name\"]\n",
    "            .lower()\n",
    "            .replace(\"(\", \"\")\n",
    "            .replace(\")\", \"\")\n",
    "            .replace(\"/\", \"_\")\n",
    "            .split(\" \")\n",
    "        )\n",
    "    except KeyError:\n",
    "        filename = \"_\".join(\n",
    "            d[\"text\"]\n",
    "            .lower()\n",
    "            .replace(\"(\", \"\")\n",
    "            .replace(\")\", \"\")\n",
    "            .replace(\"/\", \"_\")\n",
    "            .split(\" \")\n",
    "        )\n",
    "        print(d)\n",
    "    yaml_file = folder / f\"{filename}.yaml\"\n",
    "    if yaml_file.is_file():\n",
    "        log.warning(f\"yaml file {yaml_file} already exists\")\n",
    "    with open(yaml_file, \"w+\") as file:\n",
    "        yaml.dump(d, file)"
   ]
  },
  {
   "cell_type": "code",
   "execution_count": null,
   "metadata": {},
   "outputs": [],
   "source": []
  }
 ],
 "metadata": {
  "interpreter": {
   "hash": "b6a7c0f005ecfc0cce6c780b78f337517ce59462f41761a452d1be071dd0a8c1"
  },
  "kernelspec": {
   "display_name": "Python 3 (ipykernel)",
   "language": "python",
   "name": "python3"
  },
  "language_info": {
   "codemirror_mode": {
    "name": "ipython",
    "version": 3
   },
   "file_extension": ".py",
   "mimetype": "text/x-python",
   "name": "python",
   "nbconvert_exporter": "python",
   "pygments_lexer": "ipython3",
   "version": "3.9.5"
  }
 },
 "nbformat": 4,
 "nbformat_minor": 4
}
