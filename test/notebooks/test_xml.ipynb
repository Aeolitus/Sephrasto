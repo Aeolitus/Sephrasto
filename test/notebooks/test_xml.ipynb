{
 "cells": [
  {
   "cell_type": "code",
   "execution_count": 7,
   "metadata": {},
   "outputs": [],
   "source": [
    "from pathlib import Path\n",
    "import lxml.etree as ET\n",
    "import yaml\n",
    "import os\n",
    "import logging as log\n",
    "from fastnumbers import fast_int"
   ]
  },
  {
   "cell_type": "code",
   "execution_count": 8,
   "metadata": {},
   "outputs": [],
   "source": [
    "package_root = Path(\".\").absolute().parent.parent"
   ]
  },
  {
   "cell_type": "code",
   "execution_count": 9,
   "metadata": {},
   "outputs": [
    {
     "name": "stdout",
     "output_type": "stream",
     "text": [
      "/home/klnrdknt/git/sephrasto-rework/datenbank_new.xml\n"
     ]
    }
   ],
   "source": [
    "f = Path(\".\").absolute().parent.parent / \"datenbank_new.xml\"\n",
    "print(f)\n",
    "assert f.is_file()"
   ]
  },
  {
   "cell_type": "code",
   "execution_count": 10,
   "metadata": {},
   "outputs": [
    {
     "data": {
      "text/plain": [
       "<Element Datenbank at 0x7fd164af1680>"
      ]
     },
     "execution_count": 10,
     "metadata": {},
     "output_type": "execute_result"
    }
   ],
   "source": [
    "tr = ET.parse(str(f)).getroot()\n",
    "tr"
   ]
  },
  {
   "cell_type": "code",
   "execution_count": 31,
   "metadata": {},
   "outputs": [],
   "source": [
    "def xml_data_conversions(d: dict) -> dict:\n",
    "    for label in [\n",
    "        \"kommentar\",\n",
    "        \"linkKategorie\",\n",
    "        \"steigerungsfaktor\",\n",
    "        \"printclass\",\n",
    "        \"kampffertigkeit\",\n",
    "        \"typ\",\n",
    "        \"rsBauch\",\n",
    "        \"rsBeine\",\n",
    "        \"rsBrust\",\n",
    "        \"rsKopf\",\n",
    "        \"rsLArm\",\n",
    "        \"rsRArm\",\n",
    "        \"system\",\n",
    "        \"kosten\",\n",
    "        \"variable\",\n",
    "        \"verbilligt\",\n",
    "        \"W6\",\n",
    "        \"fk\",\n",
    "        \"haerte\",\n",
    "        \"plus\",\n",
    "        \"wm\",\n",
    "        \"lz\",\n",
    "        \"rw\",\n",
    "    ]:\n",
    "        if label in d:\n",
    "            d[label] = fast_int(d[label], raise_on_invalid=True)\n",
    "    if \"attribute\" in d:\n",
    "        d[\"attribute\"] = d[\"attribute\"].split(\"|\")\n",
    "    if \"voraussetzungen\" in d:\n",
    "        d[\"voraussetzungen\"] = d[\"voraussetzungen\"].split(\" ODER \")\n",
    "    if \"kampfstile\" in d:\n",
    "        d[\"kampfstile\"] = d[\"kampfstile\"].split(\", \")\n",
    "    if \"fertigkeiten\" in d:\n",
    "        d[\"fertigkeiten\"] = d[\"fertigkeiten\"].split(\", \")\n",
    "    return d"
   ]
  },
  {
   "cell_type": "code",
   "execution_count": 34,
   "metadata": {},
   "outputs": [],
   "source": [
    "db_root = package_root / \"db\"\n",
    "db_root.mkdir(exist_ok=True)\n",
    "TAG_ATTRIBUTES = {}\n",
    "for child in tr:\n",
    "    # create folder\n",
    "    tag = child.tag.replace(\"-\", \"_\")\n",
    "    folder = db_root / tag\n",
    "    folder.mkdir(exist_ok=True)\n",
    "\n",
    "    d = {k: v for k, v in sorted(child.items())}\n",
    "    d[\"text\"] = child.text\n",
    "    d = xml_data_conversions(d)\n",
    "    if tag in TAG_ATTRIBUTES:\n",
    "        for k, v in d.items():\n",
    "            TAG_ATTRIBUTES[tag][k] = v\n",
    "    else:\n",
    "        TAG_ATTRIBUTES[tag] = d\n",
    "\n",
    "    try:\n",
    "        filename = \"_\".join(\n",
    "            d[\"name\"]\n",
    "            .lower()\n",
    "            .replace(\"(\", \"\")\n",
    "            .replace(\")\", \"\")\n",
    "            .replace(\"/\", \"_\")\n",
    "            .split(\" \")\n",
    "        )\n",
    "    except KeyError:\n",
    "        filename = \"_\".join(\n",
    "            d[\"text\"]\n",
    "            .lower()\n",
    "            .replace(\"(\", \"\")\n",
    "            .replace(\")\", \"\")\n",
    "            .replace(\"/\", \"_\")\n",
    "            .split(\" \")\n",
    "        )\n",
    "        # print(d)\n",
    "    yaml_file = folder / f\"{filename}.yaml\"\n",
    "    # if yaml_file.is_file():\n",
    "    #    log.warning(f\"yaml file {yaml_file} already exists\")\n",
    "    #    continue\n",
    "    with open(yaml_file, \"w+\") as file:\n",
    "        yaml.dump(d, file)"
   ]
  },
  {
   "cell_type": "code",
   "execution_count": 48,
   "metadata": {},
   "outputs": [],
   "source": [
    "for k, v in TAG_ATTRIBUTES.items():\n",
    "    s = f\"{k}:\\n\"\n",
    "    for l, w in v.items():\n",
    "        s += (\n",
    "            f\"   {l}: {type(w)}\\n\".replace(\"<class 'int'>\", str(-1))\n",
    "            .replace(\"<class 'str'>\", '\"\"')\n",
    "            .replace(\"<class 'list'>\", '[\"\"]')\n",
    "            .replace(\"<class 'NoneType'>\", '\"\"')\n",
    "        )\n",
    "    with open(package_root / \"templates\" / \"db_templates\" / f\"{k}.yaml\", \"w+\") as file:\n",
    "        file.write(s)"
   ]
  },
  {
   "cell_type": "code",
   "execution_count": 46,
   "metadata": {},
   "outputs": [
    {
     "name": "stdout",
     "output_type": "stream",
     "text": [
      "FreieFertigkeit:\n",
      "   kategorie: \"\"\n",
      "   text: \"\"\n",
      "   voraussetzungen: [\"\"]\n",
      "\n"
     ]
    }
   ],
   "source": [
    "print(s)"
   ]
  },
  {
   "cell_type": "code",
   "execution_count": 28,
   "metadata": {},
   "outputs": [
    {
     "data": {
      "application/vnd.jupyter.widget-view+json": {
       "model_id": "04faaaf954a4415ca693ef46a3c5117a",
       "version_major": 2,
       "version_minor": 0
      },
      "text/plain": [
       "VBox(children=(Label(value='Hauptbogen'), VBox(children=(Label(value='Beschreibung'), VBox(children=(Text(valu…"
      ]
     },
     "metadata": {},
     "output_type": "display_data"
    }
   ],
   "source": [
    "from sephrasto.template import character\n",
    "\n",
    "\n",
    "def UI_from_list(l: list):\n",
    "    pass\n",
    "\n",
    "\n",
    "def UI_from_dict(d: dict, context: list = []):\n",
    "    subwidgets = []\n",
    "    for k, v in d.items():\n",
    "        context += [k]\n",
    "        if k.startswith(\"__\"):\n",
    "            continue\n",
    "        if isinstance(v, dict):\n",
    "            subwidgets.append(widgets.Label(k))\n",
    "            subwidgets.append(UI_from_dict(v))\n",
    "        elif isinstance(v, list):\n",
    "            subwidgets.append(UI_from_list(v))\n",
    "        elif isinstance(v, int):\n",
    "            subwidgets.append(\n",
    "                widgets.BoundedIntText(\n",
    "                    value=v,\n",
    "                    min=0,\n",
    "                    step=1,\n",
    "                    description=k if not k.startswith(\"_\") else k.lstrip(\"_\"),\n",
    "                    disabled=k.startswith(\"_\"),\n",
    "                )\n",
    "            )\n",
    "        elif isinstance(v, str) and len(v) >= 50:\n",
    "            subwidgets.append(widgets.HTML(description=k, placeholder=k, value=v))\n",
    "        elif isinstance(v, str):\n",
    "            subwidgets.append(\n",
    "                widgets.Text(\n",
    "                    value=v,\n",
    "                    placeholder=\"Type something\",\n",
    "                    description=k if not k.startswith(\"_\") else k.lstrip(\"_\"),\n",
    "                    disabled=k.startswith(\"_\"),\n",
    "                )\n",
    "            )\n",
    "    return widgets.VBox(subwidgets)\n",
    "\n",
    "\n",
    "char_template = character()\n",
    "\n",
    "UI_from_dict(char_template)"
   ]
  },
  {
   "cell_type": "code",
   "execution_count": 5,
   "metadata": {},
   "outputs": [
    {
     "data": {
      "application/vnd.jupyter.widget-view+json": {
       "model_id": "259a6f55b38448e8ac1544b9bc2ee29d",
       "version_major": 2,
       "version_minor": 0
      },
      "text/plain": [
       "Text(value='', description='hello')"
      ]
     },
     "metadata": {},
     "output_type": "display_data"
    }
   ],
   "source": [
    "from ipywidgets import widgets\n",
    "\n",
    "widgets.Text(description=\"hello\")"
   ]
  },
  {
   "cell_type": "code",
   "execution_count": null,
   "metadata": {},
   "outputs": [],
   "source": []
  }
 ],
 "metadata": {
  "interpreter": {
   "hash": "b6a7c0f005ecfc0cce6c780b78f337517ce59462f41761a452d1be071dd0a8c1"
  },
  "kernelspec": {
   "display_name": "Python 3 (ipykernel)",
   "language": "python",
   "name": "python3"
  },
  "language_info": {
   "codemirror_mode": {
    "name": "ipython",
    "version": 3
   },
   "file_extension": ".py",
   "mimetype": "text/x-python",
   "name": "python",
   "nbconvert_exporter": "python",
   "pygments_lexer": "ipython3",
   "version": "3.9.5"
  }
 },
 "nbformat": 4,
 "nbformat_minor": 4
}
